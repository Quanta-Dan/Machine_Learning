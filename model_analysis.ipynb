{
 "cells": [
  {
   "cell_type": "code",
   "execution_count": 1,
   "metadata": {},
   "outputs": [
    {
     "name": "stderr",
     "output_type": "stream",
     "text": [
      "2024-06-03 11:30:03.416718: I tensorflow/core/platform/cpu_feature_guard.cc:182] This TensorFlow binary is optimized to use available CPU instructions in performance-critical operations.\n",
      "To enable the following instructions: AVX2 FMA, in other operations, rebuild TensorFlow with the appropriate compiler flags.\n",
      "2024-06-03 11:30:04.784354: W tensorflow/compiler/tf2tensorrt/utils/py_utils.cc:38] TF-TRT Warning: Could not find TensorRT\n"
     ]
    }
   ],
   "source": [
    "import pandas as pd\n",
    "import numpy as np\n",
    "import matplotlib.pyplot as plt\n",
    "import tensorflow as tf\n",
    "import math\n",
    "from sklearn import preprocessing as pre\n",
    "import keras\n",
    "import tensorflow.keras.backend as K\n",
    "import functions"
   ]
  },
  {
   "cell_type": "code",
   "execution_count": 2,
   "metadata": {},
   "outputs": [],
   "source": [
    "number_models = 5"
   ]
  },
  {
   "cell_type": "code",
   "execution_count": 3,
   "metadata": {},
   "outputs": [],
   "source": [
    "\n",
    "load = True\n",
    "model_path = np.empty((number_models,), dtype='U60')\n",
    "baseline_current_array = np.empty((number_models,), dtype='U60')\n",
    "model_path[0] ='models/2024-04-17_12-35-13_single_step_41/model.h5'\n",
    "baseline_current_array[0] = 0.93971\n",
    "\n",
    "model_path[1] ='models/2024-05-14_18-50-13_single_step_v2/model.h5'\n",
    "baseline_current_array[1] = 1.1841702461242676\n",
    "\n",
    "\n",
    "model_path[2] ='models/2024-05-14_21-43-39_single_step_v3/model.h5'\n",
    "baseline_current_array[2] = 1.787\n",
    "\n",
    "\n",
    "\n",
    "model_path[3] ='models/2024-05-14_21-57-10_single_step_v4/model.h5'\n",
    "baseline_current_array[3] = 1.5\n",
    "\n",
    "model_path[4] ='models/2024-05-14_22-04-09_single_step_v5/model.h5'\n",
    "baseline_current_array[4] = 0.8\n"
   ]
  },
  {
   "cell_type": "code",
   "execution_count": 8,
   "metadata": {},
   "outputs": [
    {
     "name": "stdout",
     "output_type": "stream",
     "text": [
      "0 <keras.src.engine.input_layer.InputLayer object at 0x7fa4e2b82fe0>\n",
      "   no activation attribute\n",
      "1 <keras.src.layers.core.dense.Dense object at 0x7fa4e2b82c50>\n",
      "     <function sigmoid at 0x7fa4e62a70a0>\n",
      "2 <keras.src.layers.core.dense.Dense object at 0x7fa4e2b83040>\n",
      "     <function exponential at 0x7fa4e62a7250>\n",
      "3 <keras.src.layers.core.dense.Dense object at 0x7fa4e2b814b0>\n",
      "     <function linear at 0x7fa4e62a75b0>\n"
     ]
    }
   ],
   "source": [
    "keras_model = keras.models.load_model(model_path[2])\n",
    "for i, layer in enumerate (keras_model.layers):\n",
    "    print (i, layer)\n",
    "    try:\n",
    "        print (\"    \",layer.activation)\n",
    "    except AttributeError:\n",
    "        print('   no activation attribute')"
   ]
  },
  {
   "cell_type": "code",
   "execution_count": 9,
   "metadata": {},
   "outputs": [
    {
     "name": "stdout",
     "output_type": "stream",
     "text": [
      "0 <keras.src.engine.input_layer.InputLayer object at 0x7fa4e2bbdc60>\n",
      "   no activation attribute\n",
      "1 <keras.src.layers.core.dense.Dense object at 0x7fa4e2bbd2d0>\n",
      "     <function linear at 0x7fa4e62a75b0>\n",
      "2 <keras.src.layers.core.dense.Dense object at 0x7fa4e2bbd0c0>\n",
      "     <function linear at 0x7fa4e62a75b0>\n",
      "3 <keras.src.layers.core.dense.Dense object at 0x7fa4e2bbdff0>\n",
      "     <function linear at 0x7fa4e62a75b0>\n"
     ]
    }
   ],
   "source": [
    "keras_model2 = keras.models.load_model(model_path[1])\n",
    "for i, layer in enumerate (keras_model2.layers):\n",
    "    print (i, layer)\n",
    "    try:\n",
    "        print (\"    \",layer.activation)\n",
    "    except AttributeError:\n",
    "        print('   no activation attribute')"
   ]
  },
  {
   "cell_type": "code",
   "execution_count": null,
   "metadata": {},
   "outputs": [],
   "source": [
    "models = [keras_model, keras_model2]\n",
    "model_input = tf.keras.Input(shape=(125, 125, 3))\n",
    "model_outputs = [model(model_input) for model in models]\n",
    "ensemble_output = tf.keras.layers.Average()(model_outputs)\n",
    "ensemble_model = tf.keras.Model(inputs=model_input, outputs=ensemble_output)"
   ]
  }
 ],
 "metadata": {
  "kernelspec": {
   "display_name": "Python 3",
   "language": "python",
   "name": "python3"
  },
  "language_info": {
   "codemirror_mode": {
    "name": "ipython",
    "version": 3
   },
   "file_extension": ".py",
   "mimetype": "text/x-python",
   "name": "python",
   "nbconvert_exporter": "python",
   "pygments_lexer": "ipython3",
   "version": "3.10.12"
  }
 },
 "nbformat": 4,
 "nbformat_minor": 2
}
