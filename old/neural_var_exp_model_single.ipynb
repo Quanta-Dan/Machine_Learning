{
 "cells": [
  {
   "cell_type": "code",
   "execution_count": 257,
   "metadata": {},
   "outputs": [],
   "source": [
    "import pandas as pd\n",
    "import numpy as np\n",
    "import matplotlib.pyplot as plt\n",
    "import tensorflow as tf\n",
    "import model_function"
   ]
  },
  {
   "cell_type": "code",
   "execution_count": 258,
   "metadata": {},
   "outputs": [],
   "source": [
    "exponential_count =2\n",
    "parameter_count = exponential_count*2+1"
   ]
  },
  {
   "cell_type": "markdown",
   "metadata": {},
   "source": [
    "Load a model or creat a new one?"
   ]
  },
  {
   "cell_type": "code",
   "execution_count": 259,
   "metadata": {},
   "outputs": [],
   "source": [
    "load = True\n",
    "model_path ='models/2024-01-08_16-14-55_2exp_params_205_points_50/model.keras'"
   ]
  },
  {
   "cell_type": "code",
   "execution_count": 260,
   "metadata": {},
   "outputs": [
    {
     "name": "stderr",
     "output_type": "stream",
     "text": [
      "C:\\Users\\crpdn\\AppData\\Local\\Temp\\ipykernel_19564\\431649043.py:1: ParserWarning: Falling back to the 'python' engine because the 'c' engine does not support regex separators (separators > 1 char and different from '\\s+' are interpreted as regex); you can avoid this warning by specifying engine='python'.\n",
      "  df = pd.read_csv('measurements/C_4_1000_20231213_14_15_50.csv', sep=', ')\n"
     ]
    },
    {
     "data": {
      "text/html": [
       "<div>\n",
       "<style scoped>\n",
       "    .dataframe tbody tr th:only-of-type {\n",
       "        vertical-align: middle;\n",
       "    }\n",
       "\n",
       "    .dataframe tbody tr th {\n",
       "        vertical-align: top;\n",
       "    }\n",
       "\n",
       "    .dataframe thead th {\n",
       "        text-align: right;\n",
       "    }\n",
       "</style>\n",
       "<table border=\"1\" class=\"dataframe\">\n",
       "  <thead>\n",
       "    <tr style=\"text-align: right;\">\n",
       "      <th></th>\n",
       "      <th>Ch1(mA)</th>\n",
       "      <th>Ch2(mA)</th>\n",
       "      <th>Ch3(mA)</th>\n",
       "      <th>Ch4(mA)</th>\n",
       "      <th>Ch5(mA)</th>\n",
       "      <th>Ch6(mA)</th>\n",
       "      <th>Ch7(mA)</th>\n",
       "      <th>Ch8(mA)</th>\n",
       "      <th>Ch9(mA)</th>\n",
       "      <th>Ch10(mA)</th>\n",
       "      <th>...</th>\n",
       "      <th>Ch14(mA)</th>\n",
       "      <th>Ch15(mA)</th>\n",
       "      <th>Ch16(mA)</th>\n",
       "      <th>Channel state</th>\n",
       "      <th>On time</th>\n",
       "      <th>Off time</th>\n",
       "      <th>Pulse number</th>\n",
       "      <th>Pattern</th>\n",
       "      <th>Time</th>\n",
       "      <th>Probeflag</th>\n",
       "    </tr>\n",
       "  </thead>\n",
       "  <tbody>\n",
       "    <tr>\n",
       "      <th>0</th>\n",
       "      <td>0</td>\n",
       "      <td>0</td>\n",
       "      <td>0</td>\n",
       "      <td>0.03421</td>\n",
       "      <td>0</td>\n",
       "      <td>0</td>\n",
       "      <td>0</td>\n",
       "      <td>0</td>\n",
       "      <td>0</td>\n",
       "      <td>0</td>\n",
       "      <td>...</td>\n",
       "      <td>0</td>\n",
       "      <td>0</td>\n",
       "      <td>0</td>\n",
       "      <td>1000000000000</td>\n",
       "      <td>75</td>\n",
       "      <td>22</td>\n",
       "      <td>1</td>\n",
       "      <td>1/1000</td>\n",
       "      <td>0.087664</td>\n",
       "      <td>False</td>\n",
       "    </tr>\n",
       "    <tr>\n",
       "      <th>1</th>\n",
       "      <td>0</td>\n",
       "      <td>0</td>\n",
       "      <td>0</td>\n",
       "      <td>0.04888</td>\n",
       "      <td>0</td>\n",
       "      <td>0</td>\n",
       "      <td>0</td>\n",
       "      <td>0</td>\n",
       "      <td>0</td>\n",
       "      <td>0</td>\n",
       "      <td>...</td>\n",
       "      <td>0</td>\n",
       "      <td>0</td>\n",
       "      <td>0</td>\n",
       "      <td>1000000000000</td>\n",
       "      <td>75</td>\n",
       "      <td>22</td>\n",
       "      <td>2</td>\n",
       "      <td>1/1000</td>\n",
       "      <td>0.182584</td>\n",
       "      <td>False</td>\n",
       "    </tr>\n",
       "    <tr>\n",
       "      <th>2</th>\n",
       "      <td>0</td>\n",
       "      <td>0</td>\n",
       "      <td>0</td>\n",
       "      <td>0.06354</td>\n",
       "      <td>0</td>\n",
       "      <td>0</td>\n",
       "      <td>0</td>\n",
       "      <td>0</td>\n",
       "      <td>0</td>\n",
       "      <td>0</td>\n",
       "      <td>...</td>\n",
       "      <td>0</td>\n",
       "      <td>0</td>\n",
       "      <td>0</td>\n",
       "      <td>1000000000000</td>\n",
       "      <td>75</td>\n",
       "      <td>22</td>\n",
       "      <td>3</td>\n",
       "      <td>1/1000</td>\n",
       "      <td>0.283189</td>\n",
       "      <td>False</td>\n",
       "    </tr>\n",
       "    <tr>\n",
       "      <th>3</th>\n",
       "      <td>0</td>\n",
       "      <td>0</td>\n",
       "      <td>0</td>\n",
       "      <td>0.08309</td>\n",
       "      <td>0</td>\n",
       "      <td>0</td>\n",
       "      <td>0</td>\n",
       "      <td>0</td>\n",
       "      <td>0</td>\n",
       "      <td>0</td>\n",
       "      <td>...</td>\n",
       "      <td>0</td>\n",
       "      <td>0</td>\n",
       "      <td>0</td>\n",
       "      <td>1000000000000</td>\n",
       "      <td>75</td>\n",
       "      <td>22</td>\n",
       "      <td>4</td>\n",
       "      <td>1/1000</td>\n",
       "      <td>0.376060</td>\n",
       "      <td>False</td>\n",
       "    </tr>\n",
       "    <tr>\n",
       "      <th>4</th>\n",
       "      <td>0</td>\n",
       "      <td>0</td>\n",
       "      <td>0</td>\n",
       "      <td>0.09775</td>\n",
       "      <td>0</td>\n",
       "      <td>0</td>\n",
       "      <td>0</td>\n",
       "      <td>0</td>\n",
       "      <td>0</td>\n",
       "      <td>0</td>\n",
       "      <td>...</td>\n",
       "      <td>0</td>\n",
       "      <td>0</td>\n",
       "      <td>0</td>\n",
       "      <td>1000000000000</td>\n",
       "      <td>75</td>\n",
       "      <td>22</td>\n",
       "      <td>5</td>\n",
       "      <td>1/1000</td>\n",
       "      <td>0.469858</td>\n",
       "      <td>False</td>\n",
       "    </tr>\n",
       "  </tbody>\n",
       "</table>\n",
       "<p>5 rows × 23 columns</p>\n",
       "</div>"
      ],
      "text/plain": [
       "   Ch1(mA)  Ch2(mA)  Ch3(mA)  Ch4(mA)  Ch5(mA)  Ch6(mA)  Ch7(mA)  Ch8(mA)  \\\n",
       "0        0        0        0  0.03421        0        0        0        0   \n",
       "1        0        0        0  0.04888        0        0        0        0   \n",
       "2        0        0        0  0.06354        0        0        0        0   \n",
       "3        0        0        0  0.08309        0        0        0        0   \n",
       "4        0        0        0  0.09775        0        0        0        0   \n",
       "\n",
       "   Ch9(mA)  Ch10(mA)  ...  Ch14(mA)  Ch15(mA)  Ch16(mA)  Channel state  \\\n",
       "0        0         0  ...         0         0         0  1000000000000   \n",
       "1        0         0  ...         0         0         0  1000000000000   \n",
       "2        0         0  ...         0         0         0  1000000000000   \n",
       "3        0         0  ...         0         0         0  1000000000000   \n",
       "4        0         0  ...         0         0         0  1000000000000   \n",
       "\n",
       "   On time  Off time  Pulse number  Pattern      Time  Probeflag  \n",
       "0       75        22             1   1/1000  0.087664      False  \n",
       "1       75        22             2   1/1000  0.182584      False  \n",
       "2       75        22             3   1/1000  0.283189      False  \n",
       "3       75        22             4   1/1000  0.376060      False  \n",
       "4       75        22             5   1/1000  0.469858      False  \n",
       "\n",
       "[5 rows x 23 columns]"
      ]
     },
     "execution_count": 260,
     "metadata": {},
     "output_type": "execute_result"
    }
   ],
   "source": [
    "df = pd.read_csv('measurements/C_4_1000_20231213_14_15_50.csv', sep=', ')\n",
    "# df = pd.read_csv('measurements/E_4_20ms_20231103_14_55_46.csv', sep=', ')\n",
    "df.head()"
   ]
  },
  {
   "cell_type": "code",
   "execution_count": 261,
   "metadata": {},
   "outputs": [
    {
     "data": {
      "text/html": [
       "<div>\n",
       "<style scoped>\n",
       "    .dataframe tbody tr th:only-of-type {\n",
       "        vertical-align: middle;\n",
       "    }\n",
       "\n",
       "    .dataframe tbody tr th {\n",
       "        vertical-align: top;\n",
       "    }\n",
       "\n",
       "    .dataframe thead th {\n",
       "        text-align: right;\n",
       "    }\n",
       "</style>\n",
       "<table border=\"1\" class=\"dataframe\">\n",
       "  <thead>\n",
       "    <tr style=\"text-align: right;\">\n",
       "      <th></th>\n",
       "      <th>Pattern</th>\n",
       "      <th>Time</th>\n",
       "      <th>Current</th>\n",
       "      <th>On time</th>\n",
       "      <th>Off time</th>\n",
       "    </tr>\n",
       "  </thead>\n",
       "  <tbody>\n",
       "    <tr>\n",
       "      <th>1500</th>\n",
       "      <td>31/1000</td>\n",
       "      <td>225.214643</td>\n",
       "      <td>0.4448</td>\n",
       "      <td>47</td>\n",
       "      <td>68</td>\n",
       "    </tr>\n",
       "    <tr>\n",
       "      <th>1501</th>\n",
       "      <td>31/1000</td>\n",
       "      <td>225.328495</td>\n",
       "      <td>0.4839</td>\n",
       "      <td>47</td>\n",
       "      <td>68</td>\n",
       "    </tr>\n",
       "    <tr>\n",
       "      <th>1502</th>\n",
       "      <td>31/1000</td>\n",
       "      <td>225.445176</td>\n",
       "      <td>0.5034</td>\n",
       "      <td>47</td>\n",
       "      <td>68</td>\n",
       "    </tr>\n",
       "    <tr>\n",
       "      <th>1503</th>\n",
       "      <td>31/1000</td>\n",
       "      <td>225.561147</td>\n",
       "      <td>0.5279</td>\n",
       "      <td>47</td>\n",
       "      <td>68</td>\n",
       "    </tr>\n",
       "    <tr>\n",
       "      <th>1504</th>\n",
       "      <td>31/1000</td>\n",
       "      <td>225.674205</td>\n",
       "      <td>0.5474</td>\n",
       "      <td>47</td>\n",
       "      <td>68</td>\n",
       "    </tr>\n",
       "  </tbody>\n",
       "</table>\n",
       "</div>"
      ],
      "text/plain": [
       "      Pattern        Time  Current  On time  Off time\n",
       "1500  31/1000  225.214643   0.4448       47        68\n",
       "1501  31/1000  225.328495   0.4839       47        68\n",
       "1502  31/1000  225.445176   0.5034       47        68\n",
       "1503  31/1000  225.561147   0.5279       47        68\n",
       "1504  31/1000  225.674205   0.5474       47        68"
      ]
     },
     "execution_count": 261,
     "metadata": {},
     "output_type": "execute_result"
    }
   ],
   "source": [
    "df = df[ ['Pattern','Time','Ch4(mA)','On time', 'Off time']]\n",
    "df = df.rename(columns={'Ch4(mA)': 'Current'})\n",
    "df = df.drop(df.index[:50*10])\n",
    "df = df.iloc[1000:1050]\n",
    "df.head()"
   ]
  },
  {
   "cell_type": "code",
   "execution_count": 262,
   "metadata": {},
   "outputs": [],
   "source": [
    "target_points = 50\n",
    "cutoff_current_min = 0\n",
    "must_be_growth = False\n",
    "must_be_decay = False\n",
    "min_gradient =0\n",
    "max_final_gradient = 1"
   ]
  },
  {
   "cell_type": "code",
   "execution_count": 263,
   "metadata": {},
   "outputs": [
    {
     "data": {
      "text/plain": [
       "Text(0.5, 1.0, 'Data to be modeled')"
      ]
     },
     "execution_count": 263,
     "metadata": {},
     "output_type": "execute_result"
    },
    {
     "data": {
      "image/png": "[encoded data removed]",
      "text/plain": [
       "<Figure size 640x480 with 1 Axes>"
      ]
     },
     "metadata": {},
     "output_type": "display_data"
    }
   ],
   "source": [
    "grouped = df.groupby('Pattern')\n",
    "list_of_dfs = [group for _, group in grouped]\n",
    "list_of_dfs_fixed = []\n",
    "for data in list_of_dfs:    \n",
    "    x_time = data['Time']-np.min(data['Time'])\n",
    "    y_current = data['Current']\n",
    "    points = len(y_current)    \n",
    "    #(data.loc[0,'Off time'])\n",
    "    if len(y_current) != target_points:\n",
    "        print(points)\n",
    "        continue\n",
    "    assert x_time.shape == y_current.shape\n",
    "    assert points == target_points\n",
    "    if np.min(y_current)>cutoff_current_min and np.max(np.abs(np.gradient(y_current,y_current.index)))>min_gradient and np.min(np.abs(np.gradient(y_current,y_current.index)[:-10]))<max_final_gradient:\n",
    "        if must_be_growth:\n",
    "            if y_current.iloc[0]<y_current.iloc[-1]:\n",
    "                plt.plot(x_time, y_current, '-')\n",
    "                list_of_dfs_fixed.append(data)\n",
    "        elif   must_be_decay:\n",
    "            if y_current.iloc[0]>y_current.iloc[-1]:\n",
    "                plt.plot(x_time, y_current, '-')\n",
    "                list_of_dfs_fixed.append(data)          \n",
    "        else:\n",
    "            plt.plot(x_time, y_current, '-')\n",
    "            list_of_dfs_fixed.append(data)\n",
    "plt.xlabel('Time')\n",
    "plt.ylabel('Current')\n",
    "plt.title('Data to be modeled')"
   ]
  },
  {
   "cell_type": "code",
   "execution_count": 264,
   "metadata": {},
   "outputs": [
    {
     "name": "stdout",
     "output_type": "stream",
     "text": [
      "X shape:(1, 3)\n",
      "y shape:(1, 50, 2)\n"
     ]
    }
   ],
   "source": [
    "#initialize array of expected shape\n",
    "X_data = np.zeros((len(list_of_dfs_fixed),3))\n",
    "#initialize array of expected shape\n",
    "y_data = np.zeros((len(list_of_dfs_fixed), points, 2))\n",
    "\n",
    "for i in range(len(list_of_dfs_fixed)):\n",
    "    data = list_of_dfs_fixed[i]\n",
    "    x_time = data['Time']-np.min(data['Time'])\n",
    "    y_current = data['Current']\n",
    "    \n",
    "    if len(y_current) != target_points:\n",
    "        print(points)\n",
    "        continue\n",
    "    if np.max(y_current)>cutoff_current_min:\n",
    "        label = np.column_stack((x_time,y_current))  \n",
    "        y_data[i,:,:]= label\n",
    "        features =  np.array([np.min(y_current.values), data['On time'].iloc[0], data['Off time'].iloc[0]])\n",
    "        X_data[i,:] = features\n",
    "    prev_on_time = data['On time'].iloc[0]\n",
    "    prev_off_time = data['Off time'].iloc[0]\n",
    "\n",
    "print(f\"X shape:{X_data.shape}\")\n",
    "print(f\"y shape:{y_data.shape}\")\n"
   ]
  },
  {
   "cell_type": "code",
   "execution_count": 265,
   "metadata": {},
   "outputs": [],
   "source": [
    "from sklearn.model_selection import train_test_split\n",
    "# X_train, X_test, y_train, y_test = train_test_split(X_data, y_data, test_size=0.0, train_size=1.0)\n",
    "X_train = X_data\n",
    "y_train = y_data"
   ]
  },
  {
   "cell_type": "code",
   "execution_count": 266,
   "metadata": {},
   "outputs": [],
   "source": [
    "# from sklearn.preprocessing import StandardScaler\n",
    "# scaler = StandardScaler()\n",
    "# X_train = scaler.fit_transform(X_train)\n",
    "# X_val = scaler.transform(X_val)\n",
    "# X_test = scaler.transform(X_test)\n",
    "\n"
   ]
  },
  {
   "cell_type": "code",
   "execution_count": 267,
   "metadata": {},
   "outputs": [],
   "source": [
    "import keras\n",
    "\n",
    "import tensorflow.keras.backend as K\n",
    "\n",
    "def custom_loss(y_true, y_pred):\n",
    "    \"\"\"\n",
    "    Custom loss function for the specified task.\n",
    "\n",
    "    Parameters:\n",
    "    - y_true: Ground truth values, of shape (batch_size, 2, N).\n",
    "    - y_pred: Predicted values, of shape (batch_size, 7,N).\n",
    "\n",
    "    Returns:\n",
    "    - loss: Scalar value representing the mean loss over the batch.\n",
    "    \"\"\"\n",
    "\n",
    "    # Extract x and y values from y_true\n",
    "    x_values = y_true[:,:,0]  # Shape: (batch_size, N)\n",
    "    y_values = y_true[:,:,1]  # Shape: (batch_size, N)\n",
    "    \n",
    "    function_values = tf.zeros_like(x_values)\n",
    "    for i in range(int((y_pred.shape[2]-1)/2)):\n",
    "        temp_val= y_pred[:, :,i]*i * K.exp(-(x_values) * y_pred[:, :,i+1]*i)\n",
    "        function_values = function_values+ temp_val\n",
    "    function_values = function_values+y_pred[:,:,-1]\n",
    "    \n",
    "    # square absolute error\n",
    "    diff = (y_values -function_values) \n",
    "    squared_diff = tf.math.square(diff)\n",
    "    mse = tf.math.reduce_sum(squared_diff, axis=-1)\n",
    "\n",
    "\n",
    "    # diff = function_values - y_values\n",
    "    # # print(diff)\n",
    "    # # Take the square of the differences\n",
    "    # squared_diff = K.square(diff)\n",
    "\n",
    "    # slope_comparison = 0.0\n",
    "    # for i in range(y_true.shape[2]-1):\n",
    "    #     x_diff = x_values[:,i+1]-x_values[:,i]  \n",
    "    #     function_slope = (function_values[:,i+1]-function_values[:,i])/x_diff \n",
    "    #     true_slope= (y_values[:,i+1]-y_values[:,i])/x_diff\n",
    "    #     slope_comparison += tf.math.square(true_slope- function_slope)      \n",
    "\n",
    "    # square relative error\n",
    "    # diff = (y_values -function_values) / (y_values+0.0001) #K.maximum(y_values, y_values+0.00001)\n",
    "    # squared_diff = tf.math.square(diff)\n",
    "    # mse = tf.math.reduce_sum(squared_diff, axis=-1)\n",
    "\n",
    "    loss = mse #+ slope_comparison\n",
    "    # loss = K.mean(squared_diff, axis=-1)\n",
    "    return loss\n",
    " \n",
    "\n",
    "def create_nn():\n",
    "    global X_train, points\n",
    "    # Input layer, the number of input nodes is governed by X_data.shape[1]\n",
    "    # X_data.shape[1] is the number of columns in X_data\n",
    "    inputs = keras.Input(shape=(X_train.shape[1],), name='input')\n",
    "    \n",
    "    # Dense layers \n",
    "    #layers_norm = keras.layers.BatchNormalization()(inputs)\n",
    "    layers_dense = keras.layers.Dense(10, 'linear')(inputs)\n",
    "    layers_dense2 = keras.layers.Dense(10, 'linear')(layers_dense)\n",
    "    # layers_dense3 = keras.layers.Dense(20, 'linear')(layers_dense2)\n",
    "    # layers_dense4 = keras.layers.Dense(20, 'linear')(layers_dense3)\n",
    "    # Parameter layer\n",
    "    # layers_norm = keras.layers.LayerNormalization()(layers_dense2)\n",
    "    parameters = keras.layers.Dense(parameter_count)(layers_dense2)\n",
    "    # Expand parameters to have same shape as y_true\n",
    "    expanded_parameters = keras.layers.RepeatVector(points)(parameters)\n",
    "\n",
    "\n",
    "    return keras.Model(inputs=inputs, outputs=expanded_parameters, name=\"current_function_prediction\")"
   ]
  },
  {
   "cell_type": "code",
   "execution_count": 268,
   "metadata": {},
   "outputs": [
    {
     "name": "stdout",
     "output_type": "stream",
     "text": [
      "Model: \"current_function_prediction\"\n",
      "_________________________________________________________________\n",
      " Layer (type)                Output Shape              Param #   \n",
      "=================================================================\n",
      " input (InputLayer)          [(None, 3)]               0         \n",
      "                                                                 \n",
      " dense_12 (Dense)            (None, 10)                40        \n",
      "                                                                 \n",
      " dense_13 (Dense)            (None, 10)                110       \n",
      "                                                                 \n",
      " dense_14 (Dense)            (None, 5)                 55        \n",
      "                                                                 \n",
      " repeat_vector_4 (RepeatVec  (None, 50, 5)             0         \n",
      " tor)                                                            \n",
      "                                                                 \n",
      "=================================================================\n",
      "Total params: 205 (820.00 Byte)\n",
      "Trainable params: 205 (820.00 Byte)\n",
      "Non-trainable params: 0 (0.00 Byte)\n",
      "_________________________________________________________________\n"
     ]
    }
   ],
   "source": [
    "if load:\n",
    "    model = keras.models.load_model(model_path, custom_objects={'custom_loss':custom_loss})\n",
    "else:\n",
    "    model = create_nn()\n",
    "\n",
    "model.summary()"
   ]
  },
  {
   "cell_type": "code",
   "execution_count": 269,
   "metadata": {},
   "outputs": [],
   "source": [
    "def compile_model(model):\n",
    "    sgd = keras.optimizers.RMSprop(clipnorm=5)\n",
    "    model.compile(optimizer=sgd, #'adam'\n",
    "                  loss=custom_loss)\n",
    "    \n",
    "\n",
    "\n",
    "number_of_epochs = 40\n",
    "\n",
    "\n",
    "class MyEarlyStopping(keras.callbacks.EarlyStopping):\n",
    "    def __init__(self, *args, **kw):\n",
    "        super().__init__(*args, **kw)\n",
    "        self.baseline_attained = False\n",
    "\n",
    "    def on_epoch_end(self, epoch, logs=None):\n",
    "        if not self.baseline_attained:\n",
    "            current = self.get_monitor_value(logs)\n",
    "            if current is None:\n",
    "                return\n",
    "\n",
    "            if self.monitor_op(current, self.baseline):\n",
    "                if self.verbose > 0:\n",
    "                    print('Baseline attained.')\n",
    "                self.baseline_attained = True\n",
    "            else:\n",
    "                return\n",
    "\n",
    "        super(MyEarlyStopping, self).on_epoch_end(epoch, logs)\n",
    "\n",
    "earlystopper = MyEarlyStopping(monitor=\"loss\", patience=0, baseline = 0.01, restore_best_weights=True)\n",
    "reduce_lr = keras.callbacks.ReduceLROnPlateau(monitor='loss', \n",
    "                              factor=0.8, \n",
    "                              patience=5, \n",
    "                              min_lr=1e-6)\n",
    "compile_model(model)\n",
    "\n",
    "import seaborn as sns\n",
    "def plot_history(history, metrics, y_lim):\n",
    "    \"\"\"\n",
    "    Plot the training history\n",
    "\n",
    "    Args:\n",
    "        history (keras History object that is returned by model.fit())\n",
    "        metrics (str, list): Metric or a list of metrics to plot\n",
    "    \"\"\"\n",
    "    history_df = pd.DataFrame.from_dict(history.history)\n",
    "    sns.lineplot(data=history_df[metrics])\n",
    "    if y_lim !=0:\n",
    "        plt.ylim(0,y_lim)\n",
    "    plt.xlabel(\"epochs\")\n",
    "    plt.ylabel(\"metric\")\n",
    "\n"
   ]
  },
  {
   "cell_type": "code",
   "execution_count": 270,
   "metadata": {},
   "outputs": [
    {
     "name": "stdout",
     "output_type": "stream",
     "text": [
      "Epoch 1/40\n"
     ]
    },
    {
     "name": "stdout",
     "output_type": "stream",
     "text": [
      "1/1 - 0s - loss: 3535.0703 - lr: 0.0010 - 479ms/epoch - 479ms/step\n",
      "Epoch 2/40\n",
      "1/1 - 0s - loss: 1507.5890 - lr: 0.0010 - 2ms/epoch - 2ms/step\n",
      "Epoch 3/40\n",
      "1/1 - 0s - loss: 517.3630 - lr: 0.0010 - 2ms/epoch - 2ms/step\n",
      "Epoch 4/40\n",
      "1/1 - 0s - loss: 124.0875 - lr: 0.0010 - 2ms/epoch - 2ms/step\n",
      "Epoch 5/40\n",
      "1/1 - 0s - loss: 51.4809 - lr: 0.0010 - 2ms/epoch - 2ms/step\n",
      "Epoch 6/40\n",
      "1/1 - 0s - loss: 55.9213 - lr: 0.0010 - 2ms/epoch - 2ms/step\n",
      "Epoch 7/40\n",
      "1/1 - 0s - loss: 23.0240 - lr: 0.0010 - 2ms/epoch - 2ms/step\n",
      "Epoch 8/40\n",
      "1/1 - 0s - loss: 36.8627 - lr: 0.0010 - 3ms/epoch - 3ms/step\n",
      "Epoch 9/40\n",
      "1/1 - 0s - loss: 14.5392 - lr: 0.0010 - 2ms/epoch - 2ms/step\n",
      "Epoch 10/40\n",
      "1/1 - 0s - loss: 29.2158 - lr: 0.0010 - 2ms/epoch - 2ms/step\n",
      "Epoch 11/40\n",
      "1/1 - 0s - loss: 11.3862 - lr: 0.0010 - 2ms/epoch - 2ms/step\n",
      "Epoch 12/40\n",
      "1/1 - 0s - loss: 25.5898 - lr: 0.0010 - 3ms/epoch - 3ms/step\n",
      "Epoch 13/40\n",
      "1/1 - 0s - loss: 9.9778 - lr: 0.0010 - 2ms/epoch - 2ms/step\n",
      "Epoch 14/40\n",
      "1/1 - 0s - loss: 23.5194 - lr: 0.0010 - 2ms/epoch - 2ms/step\n",
      "Epoch 15/40\n",
      "1/1 - 0s - loss: 9.2049 - lr: 0.0010 - 2ms/epoch - 2ms/step\n",
      "Epoch 16/40\n",
      "1/1 - 0s - loss: 22.1424 - lr: 0.0010 - 2ms/epoch - 2ms/step\n",
      "Epoch 17/40\n",
      "1/1 - 0s - loss: 8.7189 - lr: 0.0010 - 3ms/epoch - 3ms/step\n",
      "Epoch 18/40\n",
      "1/1 - 0s - loss: 21.1363 - lr: 0.0010 - 2ms/epoch - 2ms/step\n",
      "Epoch 19/40\n",
      "1/1 - 0s - loss: 8.3978 - lr: 0.0010 - 3ms/epoch - 3ms/step\n",
      "Epoch 20/40\n",
      "1/1 - 0s - loss: 20.3607 - lr: 0.0010 - 3ms/epoch - 3ms/step\n",
      "Epoch 21/40\n",
      "1/1 - 0s - loss: 8.1852 - lr: 0.0010 - 3ms/epoch - 3ms/step\n",
      "Epoch 22/40\n",
      "1/1 - 0s - loss: 19.7423 - lr: 0.0010 - 3ms/epoch - 3ms/step\n",
      "Epoch 23/40\n",
      "1/1 - 0s - loss: 8.0502 - lr: 0.0010 - 3ms/epoch - 3ms/step\n",
      "Epoch 24/40\n",
      "1/1 - 0s - loss: 19.2338 - lr: 0.0010 - 3ms/epoch - 3ms/step\n",
      "Epoch 25/40\n",
      "1/1 - 0s - loss: 7.9709 - lr: 0.0010 - 4ms/epoch - 4ms/step\n",
      "Epoch 26/40\n",
      "1/1 - 0s - loss: 18.8061 - lr: 0.0010 - 2ms/epoch - 2ms/step\n",
      "Epoch 27/40\n",
      "1/1 - 0s - loss: 7.9339 - lr: 0.0010 - 2ms/epoch - 2ms/step\n",
      "Epoch 28/40\n",
      "1/1 - 0s - loss: 18.4385 - lr: 0.0010 - 2ms/epoch - 2ms/step\n",
      "Epoch 29/40\n",
      "1/1 - 0s - loss: 7.9287 - lr: 0.0010 - 3ms/epoch - 3ms/step\n",
      "Epoch 30/40\n",
      "1/1 - 0s - loss: 18.1153 - lr: 0.0010 - 2ms/epoch - 2ms/step\n",
      "Epoch 31/40\n",
      "1/1 - 0s - loss: 7.9477 - lr: 0.0010 - 2ms/epoch - 2ms/step\n",
      "Epoch 32/40\n",
      "1/1 - 0s - loss: 17.8261 - lr: 0.0010 - 2ms/epoch - 2ms/step\n",
      "Epoch 33/40\n",
      "1/1 - 0s - loss: 7.9861 - lr: 0.0010 - 2ms/epoch - 2ms/step\n",
      "Epoch 34/40\n",
      "1/1 - 0s - loss: 17.5631 - lr: 0.0010 - 3ms/epoch - 3ms/step\n",
      "Epoch 35/40\n",
      "1/1 - 0s - loss: 8.0398 - lr: 8.0000e-04 - 2ms/epoch - 2ms/step\n",
      "Epoch 36/40\n",
      "1/1 - 0s - loss: 7.7886 - lr: 8.0000e-04 - 2ms/epoch - 2ms/step\n",
      "Epoch 37/40\n",
      "1/1 - 0s - loss: 8.0793 - lr: 8.0000e-04 - 3ms/epoch - 3ms/step\n",
      "Epoch 38/40\n",
      "1/1 - 0s - loss: 7.6855 - lr: 8.0000e-04 - 2ms/epoch - 2ms/step\n",
      "Epoch 39/40\n",
      "1/1 - 0s - loss: 8.1260 - lr: 8.0000e-04 - 3ms/epoch - 3ms/step\n",
      "Epoch 40/40\n",
      "1/1 - 0s - loss: 7.5880 - lr: 8.0000e-04 - 2ms/epoch - 2ms/step\n"
     ]
    }
   ],
   "source": [
    "history = model.fit(X_train, y_train,\n",
    "                    batch_size=1,\n",
    "                    epochs=number_of_epochs,\n",
    "                    # validation_data = (X_val,y_val),\n",
    "                    callbacks=[earlystopper\n",
    "                               ,reduce_lr\n",
    "                               ],\n",
    "                    verbose=2)"
   ]
  },
  {
   "cell_type": "code",
   "execution_count": 271,
   "metadata": {},
   "outputs": [
    {
     "data": {
      "image/png": "[encoded data removed]",
      "text/plain": [
       "<Figure size 640x480 with 1 Axes>"
      ]
     },
     "metadata": {},
     "output_type": "display_data"
    }
   ],
   "source": [
    "# call the plot_history function with the apropriate object and string\n",
    "plot_history(history, ['loss'],100)"
   ]
  },
  {
   "cell_type": "code",
   "execution_count": 276,
   "metadata": {},
   "outputs": [],
   "source": [
    "# Save the model\n",
    "import os\n",
    "from datetime import datetime\n",
    "current_date = datetime.now().strftime(\"%Y-%m-%d_%H-%M-%S\")\n",
    "# filename = f\"{current_date}_RMSE_params_{model.count_params()}_points_{points}.keras\"\n",
    "# model.save('models/'+filename)\n",
    "\n",
    "\n",
    "folder_path = f'models/{current_date}_{exponential_count}exp_params_{model.count_params()}_points_{points}'\n",
    "os.makedirs(folder_path, exist_ok=True)\n",
    "model = keras.models.load_model(model_path, custom_objects={'custom_loss':custom_loss})\n",
    "model.save(folder_path+'/model.h5')"
   ]
  },
  {
   "cell_type": "code",
   "execution_count": 273,
   "metadata": {},
   "outputs": [
    {
     "name": "stdout",
     "output_type": "stream",
     "text": [
      "1/1 [==============================] - 0s 50ms/step\n"
     ]
    }
   ],
   "source": [
    "# make prediction on test data\n",
    "y_train_prediction = model.predict(X_train)"
   ]
  },
  {
   "cell_type": "code",
   "execution_count": 274,
   "metadata": {},
   "outputs": [
    {
     "name": "stdout",
     "output_type": "stream",
     "text": [
      "1/1 [==============================] - 0s 17ms/step\n"
     ]
    },
    {
     "data": {
      "text/plain": [
       "Text(0.5, 1.0, 'Relative Error of test data prediction')"
      ]
     },
     "execution_count": 274,
     "metadata": {},
     "output_type": "execute_result"
    },
    {
     "data": {
      "image/png": "[encoded data removed]",
      "text/plain": [
       "<Figure size 1200x600 with 1 Axes>"
      ]
     },
     "metadata": {},
     "output_type": "display_data"
    }
   ],
   "source": [
    "plt.figure(figsize=(12, 6))\n",
    "\n",
    "y_train_prediction = model.predict(X_train)\n",
    "\n",
    "# from matplotlib.pyplot import cm\n",
    "# color = iter(cm.rainbow(np.linspace(0, 1, X_test.shape[0]-5)))\n",
    "plt.subplot(1, 2, 1)\n",
    "for test_entry_index in range(X_train.shape[0]):\n",
    "    y_true = y_train[test_entry_index,:,:]\n",
    "    param_predicted = y_train_prediction[test_entry_index,0 ,: ]\n",
    "    plt.plot(y_true[:,0], -(y_true[:,1]- model_function.exponential_function_param_specific(y_true[:,0], param_predicted))/y_true[:,1], '-', color = 'C0', alpha = 0.3, )\n",
    "\n",
    "\n",
    "plt.xlabel('time')\n",
    "plt.ylabel('Relative error')\n",
    "plt.title('Relative Error of test data prediction')\n"
   ]
  },
  {
   "cell_type": "markdown",
   "metadata": {},
   "source": [
    "Relative error plots"
   ]
  },
  {
   "cell_type": "code",
   "execution_count": 275,
   "metadata": {},
   "outputs": [
    {
     "name": "stdout",
     "output_type": "stream",
     "text": [
      "1/1 [==============================] - 0s 17ms/step\n"
     ]
    },
    {
     "data": {
      "text/plain": [
       "Text(0.5, 1.0, 'True vs prediction')"
      ]
     },
     "execution_count": 275,
     "metadata": {},
     "output_type": "execute_result"
    },
    {
     "data": {
      "image/png": "[encoded data removed]",
      "text/plain": [
       "<Figure size 1200x600 with 1 Axes>"
      ]
     },
     "metadata": {},
     "output_type": "display_data"
    }
   ],
   "source": [
    "plt.figure(figsize=(12, 6))\n",
    "\n",
    "y_train_prediction = model.predict(X_train)\n",
    "\n",
    "plt.subplot(1, 2, 1)\n",
    "for test_entry_index in range(X_train.shape[0]):\n",
    "    y_true = y_train[test_entry_index,:,:]\n",
    "    param_predicted = y_train_prediction[test_entry_index,0 ,: ]\n",
    "    plt.plot(y_true[:,0], y_true[:,1], '-', color = 'C0', alpha = 0.3, )\n",
    "    plt.plot(y_true[:,0], model_function.exponential_function_param_specific(y_true[:,0], param_predicted), '-', color = 'C0', alpha = 1, )\n",
    "\n",
    "    \n",
    "plt.xlabel('time')\n",
    "plt.ylabel('Current (mA)')\n",
    "plt.title('True vs prediction')\n"
   ]
  }
 ],
 "metadata": {
  "kernelspec": {
   "display_name": "base",
   "language": "python",
   "name": "python3"
  },
  "language_info": {
   "codemirror_mode": {
    "name": "ipython",
    "version": 3
   },
   "file_extension": ".py",
   "mimetype": "text/x-python",
   "name": "python",
   "nbconvert_exporter": "python",
   "pygments_lexer": "ipython3",
   "version": "3.11.5"
  }
 },
 "nbformat": 4,
 "nbformat_minor": 2
}
